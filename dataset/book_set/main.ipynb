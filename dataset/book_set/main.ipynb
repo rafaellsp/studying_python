{
 "cells": [
  {
   "cell_type": "code",
   "execution_count": 1,
   "metadata": {},
   "outputs": [
    {
     "ename": "ModuleNotFoundError",
     "evalue": "No module named 'lxml'",
     "output_type": "error",
     "traceback": [
      "\u001b[1;31m---------------------------------------------------------------------------\u001b[0m",
      "\u001b[1;31mModuleNotFoundError\u001b[0m                       Traceback (most recent call last)",
      "Cell \u001b[1;32mIn[1], line 8\u001b[0m\n\u001b[0;32m      6\u001b[0m \u001b[38;5;28;01mfrom\u001b[39;00m \u001b[38;5;21;01mselenium\u001b[39;00m \u001b[38;5;28;01mimport\u001b[39;00m webdriver\n\u001b[0;32m      7\u001b[0m \u001b[38;5;28;01mfrom\u001b[39;00m \u001b[38;5;21;01mselenium\u001b[39;00m\u001b[38;5;21;01m.\u001b[39;00m\u001b[38;5;21;01mwebdriver\u001b[39;00m\u001b[38;5;21;01m.\u001b[39;00m\u001b[38;5;21;01msupport\u001b[39;00m\u001b[38;5;21;01m.\u001b[39;00m\u001b[38;5;21;01mui\u001b[39;00m \u001b[38;5;28;01mimport\u001b[39;00m WebDriverWait\n\u001b[1;32m----> 8\u001b[0m \u001b[38;5;28;01mfrom\u001b[39;00m \u001b[38;5;21;01mlxml\u001b[39;00m\u001b[38;5;21;01m.\u001b[39;00m\u001b[38;5;21;01mhtml\u001b[39;00m\u001b[38;5;21;01m.\u001b[39;00m\u001b[38;5;21;01msoupparser\u001b[39;00m \u001b[38;5;28;01mimport\u001b[39;00m fromstring\n\u001b[0;32m      9\u001b[0m \u001b[38;5;28;01mfrom\u001b[39;00m \u001b[38;5;21;01mselenium\u001b[39;00m\u001b[38;5;21;01m.\u001b[39;00m\u001b[38;5;21;01mwebdriver\u001b[39;00m\u001b[38;5;21;01m.\u001b[39;00m\u001b[38;5;21;01msupport\u001b[39;00m \u001b[38;5;28;01mimport\u001b[39;00m expected_conditions \u001b[38;5;28;01mas\u001b[39;00m EC\n",
      "\u001b[1;31mModuleNotFoundError\u001b[0m: No module named 'lxml'"
     ]
    }
   ],
   "source": [
    "import bs4\n",
    "from bs4 import BeautifulSoup\n",
    "import sys\n",
    "import time\n",
    "sys.path.insert(0,'/usr/lib/chromium-browser/chromedriver')\n",
    "from selenium import webdriver\n",
    "from selenium.webdriver.support.ui import WebDriverWait\n",
    "from lxml.html.soupparser import fromstring\n",
    "from selenium.webdriver.support import expected_conditions as EC"
   ]
  },
  {
   "cell_type": "code",
   "execution_count": null,
   "metadata": {},
   "outputs": [],
   "source": [
    "\n",
    "url = 'https://www.amazon.com.br/s?k=ciencia+de+dados&i=stripbooks&crid=NTDHNTJYUKF4&sprefix=%2Cstripbooks%2C921&ref=nb_sb_ss_recent_2_0_recent'"
   ]
  },
  {
   "cell_type": "code",
   "execution_count": null,
   "metadata": {},
   "outputs": [],
   "source": [
    "chrome_options = webdriver.ChromeOptions()\n",
    "chrome_options.add_argument('--headless')\n",
    "chrome_options.add_argument('--no-sandbox')\n",
    "chrome_options.add_argument('--disable-dev-shm-usage')\n",
    "\n",
    "browser = webdriver.Chrome(options=chrome_options)\n",
    "browser.get(url)\n",
    "soup = BeautifulSoup(browser.page_source, \"html.parser\")\n",
    "print(soup)"
   ]
  },
  {
   "cell_type": "code",
   "execution_count": null,
   "metadata": {},
   "outputs": [],
   "source": [
    "_resultadosdaBusca = \"div[data-cy='title-recipe']\"\n",
    "job_elems = soup.select(_resultadosdaBusca)\n",
    "len(job_elems)"
   ]
  },
  {
   "cell_type": "code",
   "execution_count": null,
   "metadata": {},
   "outputs": [],
   "source": [
    "_titulo = 'h2'\n",
    "\n",
    "x = job_elems[0]\n",
    "\n",
    "t = x.select(_titulo)[0]\n",
    "titulo = t.get_text()\n",
    "print(titulo)"
   ]
  },
  {
   "cell_type": "code",
   "execution_count": null,
   "metadata": {},
   "outputs": [],
   "source": [
    "# Seletor para os resultados da busca\n",
    "_resultadosdaBusca = \"div.s-main-slot div.s-result-item\"\n",
    "job_elems = soup.select(_resultadosdaBusca)\n",
    "\n",
    "for elem in job_elems:\n",
    "    # Seletor para o título\n",
    "    _titulo = 'h2 a span'\n",
    "    title_elem = elem.select_one(_titulo)\n",
    "    if title_elem:\n",
    "        titulo = title_elem.get_text()\n",
    "        print(f'Título: {titulo}')\n",
    "    \n",
    "    # Seletor para o preço principal\n",
    "    _preco = 'span.a-price span.a-offscreen'\n",
    "    price_elem = elem.select_one(_preco)\n",
    "    if price_elem:\n",
    "        preco = price_elem.get_text()\n",
    "        print(f'Preço principal: {preco}')\n",
    "    \n",
    "    # Seletor para o preço digital sugerido\n",
    "    _preco_sugerido = 'span.a-price span.a-offscreen'\n",
    "    price_sugerido_elem = elem.select_one(_preco_sugerido)\n",
    "    if price_sugerido_elem:\n",
    "        preco_sugerido = price_sugerido_elem.get_text()\n",
    "        print(f'Preço digital sugerido: {preco_sugerido}')"
   ]
  },
  {
   "cell_type": "code",
   "execution_count": null,
   "metadata": {},
   "outputs": [],
   "source": [
    "precos =  x.select('span[class=\"a-price\"]')\n",
    "\n",
    "valorPreco = None\n",
    "\n",
    "for _preco in _precos:\n",
    "  valorPrecoAtual = float(_preco.get_text().replace('R$','').replace(',','.'))\n",
    "  if valorPreco == None:\n",
    "    valorPreco = valorPrecoAtual\n",
    "  else:\n",
    "    if valorPrecoAtual < valorPreco:\n",
    "      valorPreco = valorPrecoAtual\n",
    "\n",
    "preco = str(valorPreco)\n",
    "print('Obra:'+titulo)\n",
    "print('Preço:'+preco)"
   ]
  }
 ],
 "metadata": {
  "kernelspec": {
   "display_name": "Python 3",
   "language": "python",
   "name": "python3"
  },
  "language_info": {
   "codemirror_mode": {
    "name": "ipython",
    "version": 3
   },
   "file_extension": ".py",
   "mimetype": "text/x-python",
   "name": "python",
   "nbconvert_exporter": "python",
   "pygments_lexer": "ipython3",
   "version": "3.11.5"
  }
 },
 "nbformat": 4,
 "nbformat_minor": 2
}
